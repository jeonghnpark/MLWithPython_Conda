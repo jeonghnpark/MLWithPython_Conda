{
 "cells": [
  {
   "cell_type": "code",
   "execution_count": 1,
   "id": "5cab3767-5844-4525-bcba-c896e70eee31",
   "metadata": {},
   "outputs": [],
   "source": [
    "import sklearn"
   ]
  },
  {
   "cell_type": "code",
   "execution_count": 2,
   "id": "ae2db64f-9fa1-45cd-8390-f1fc5ffce008",
   "metadata": {},
   "outputs": [],
   "source": [
    "from sklearn"
   ]
  },
  {
   "cell_type": "code",
   "execution_count": 3,
   "id": "a6112300-2b32-49cf-a7f0-8ec260147313",
   "metadata": {},
   "outputs": [],
   "source": [
    "int_a=3"
   ]
  },
  {
   "cell_type": "code",
   "execution_count": null,
   "id": "2cc97250-e4b5-48dc-b518-060358330476",
   "metadata": {},
   "outputs": [],
   "source": []
  }
 ],
 "metadata": {
  "kernelspec": {
   "display_name": "Python 3",
   "language": "python",
   "name": "python3"
  },
  "language_info": {
   "codemirror_mode": {
    "name": "ipython",
    "version": 3
   },
   "file_extension": ".py",
   "mimetype": "text/x-python",
   "name": "python",
   "nbconvert_exporter": "python",
   "pygments_lexer": "ipython3",
   "version": "3.9.7"
  }
 },
 "nbformat": 4,
 "nbformat_minor": 5
}
